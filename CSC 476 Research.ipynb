{
 "cells": [
  {
   "cell_type": "code",
   "execution_count": 1,
   "id": "197980a3",
   "metadata": {},
   "outputs": [],
   "source": [
    "from sklearn.model_selection import train_test_split\n",
    "from sklearn.linear_model import LinearRegression\n",
    "from sklearn.metrics import mean_squared_error\n",
    "import pandas as pd"
   ]
  },
  {
   "cell_type": "code",
   "execution_count": 2,
   "id": "3fc31e0c",
   "metadata": {},
   "outputs": [
    {
     "name": "stdout",
     "output_type": "stream",
     "text": [
      "Requirement already satisfied: pandas in c:\\users\\user\\anaconda3\\lib\\site-packages (1.2.4)Note: you may need to restart the kernel to use updated packages.\n",
      "Requirement already satisfied: pytz>=2017.3 in c:\\users\\user\\anaconda3\\lib\\site-packages (from pandas) (2021.1)\n",
      "Requirement already satisfied: python-dateutil>=2.7.3 in c:\\users\\user\\anaconda3\\lib\\site-packages (from pandas) (2.8.1)\n",
      "Requirement already satisfied: numpy>=1.16.5 in c:\\users\\user\\anaconda3\\lib\\site-packages (from pandas) (1.20.1)\n",
      "Requirement already satisfied: six>=1.5 in c:\\users\\user\\anaconda3\\lib\\site-packages (from python-dateutil>=2.7.3->pandas) (1.15.0)\n",
      "\n"
     ]
    }
   ],
   "source": [
    "pip install pandas"
   ]
  },
  {
   "cell_type": "code",
   "execution_count": 5,
   "id": "9a4ad3f6",
   "metadata": {},
   "outputs": [
    {
     "name": "stdout",
     "output_type": "stream",
     "text": [
      "   Year  FemaleAdmits  FemaleApplication  FemaleAcceptanceRate(%)  \\\n",
      "0  1974            10                 82                    12.20   \n",
      "1  1975             8                 91                     8.79   \n",
      "2  1976             7                 89                     7.87   \n",
      "3  1977             7                 75                     9.33   \n",
      "4  1978            10                 99                    10.10   \n",
      "\n",
      "   TotalAdmits  ApplicantNumber  AcceptanceRate(%)  \n",
      "0           58             1095               5.30  \n",
      "1           60             1091               5.50  \n",
      "2           66              981               6.73  \n",
      "3           75             1062               7.06  \n",
      "4           66             1100               6.00  \n"
     ]
    }
   ],
   "source": [
    "\n",
    "# Replace 'your_file.csv' with the actual filename\n",
    "file_path = r'C:\\Users\\user\\Downloads\\dataset.csv'\n",
    "\n",
    "# Read the CSV file into a DataFrame\n",
    "df = pd.read_csv(file_path)\n",
    "\n",
    "# Display the first few rows of the DataFrame to inspect the data\n",
    "print(df.head())"
   ]
  },
  {
   "cell_type": "markdown",
   "id": "f424361f",
   "metadata": {},
   "source": [
    "# Handling missing Values"
   ]
  },
  {
   "cell_type": "code",
   "execution_count": 9,
   "id": "46df6a3e",
   "metadata": {},
   "outputs": [
    {
     "name": "stdout",
     "output_type": "stream",
     "text": [
      "Year                       0\n",
      "FemaleAdmits               0\n",
      "FemaleApplication          0\n",
      "FemaleAcceptanceRate(%)    0\n",
      "TotalAdmits                0\n",
      "ApplicantNumber            0\n",
      "AcceptanceRate(%)          0\n",
      "dtype: int64\n"
     ]
    }
   ],
   "source": [
    "# Check for missing values\n",
    "print(data.isnull().sum())"
   ]
  },
  {
   "cell_type": "code",
   "execution_count": 10,
   "id": "83951a10",
   "metadata": {},
   "outputs": [],
   "source": [
    "## Our data is clean, there is no missing values"
   ]
  },
  {
   "cell_type": "code",
   "execution_count": 11,
   "id": "7a7dd039",
   "metadata": {},
   "outputs": [],
   "source": [
    "# Replace missing values in 'your_column' with the mean of that column\n",
    "# data['your_column'] = data['your_column'].fillna(data['your_column'].mean())"
   ]
  },
  {
   "cell_type": "code",
   "execution_count": null,
   "id": "bf7eef77",
   "metadata": {},
   "outputs": [],
   "source": []
  },
  {
   "cell_type": "code",
   "execution_count": 15,
   "id": "300d6d35",
   "metadata": {},
   "outputs": [
    {
     "data": {
      "text/plain": [
       "0     10\n",
       "1      8\n",
       "2      7\n",
       "3      7\n",
       "4     10\n",
       "5      7\n",
       "6     11\n",
       "7     12\n",
       "8     10\n",
       "9     12\n",
       "10     9\n",
       "11     9\n",
       "12     9\n",
       "13    10\n",
       "14     8\n",
       "15    11\n",
       "16    11\n",
       "17    12\n",
       "18     9\n",
       "19     8\n",
       "20    11\n",
       "21     9\n",
       "22     9\n",
       "23    10\n",
       "24     8\n",
       "25    12\n",
       "26     8\n",
       "27     8\n",
       "28    12\n",
       "29     9\n",
       "30    11\n",
       "31    10\n",
       "32    11\n",
       "33    11\n",
       "34    13\n",
       "35    11\n",
       "36    10\n",
       "37     9\n",
       "38     8\n",
       "39    10\n",
       "40    10\n",
       "41    12\n",
       "42     8\n",
       "43    15\n",
       "44    14\n",
       "45    12\n",
       "46    15\n",
       "47    12\n",
       "Name: FemaleAdmits, dtype: int64"
      ]
     },
     "execution_count": 15,
     "metadata": {},
     "output_type": "execute_result"
    }
   ],
   "source": [
    "#This is our target variable which is the dependent variable\n",
    "df['FemaleAdmits']\n"
   ]
  },
  {
   "cell_type": "code",
   "execution_count": 18,
   "id": "c54e442b",
   "metadata": {},
   "outputs": [
    {
     "data": {
      "text/plain": [
       "Index(['Year', 'FemaleAdmits', 'FemaleApplication', 'FemaleAcceptanceRate(%)',\n",
       "       'TotalAdmits', 'ApplicantNumber', 'AcceptanceRate(%)'],\n",
       "      dtype='object')"
      ]
     },
     "execution_count": 18,
     "metadata": {},
     "output_type": "execute_result"
    }
   ],
   "source": [
    "# To get a list of all the columns\n",
    "df.columns"
   ]
  },
  {
   "cell_type": "code",
   "execution_count": 22,
   "id": "35ca89b8",
   "metadata": {
    "collapsed": true
   },
   "outputs": [
    {
     "data": {
      "text/html": [
       "<div>\n",
       "<style scoped>\n",
       "    .dataframe tbody tr th:only-of-type {\n",
       "        vertical-align: middle;\n",
       "    }\n",
       "\n",
       "    .dataframe tbody tr th {\n",
       "        vertical-align: top;\n",
       "    }\n",
       "\n",
       "    .dataframe thead th {\n",
       "        text-align: right;\n",
       "    }\n",
       "</style>\n",
       "<table border=\"1\" class=\"dataframe\">\n",
       "  <thead>\n",
       "    <tr style=\"text-align: right;\">\n",
       "      <th></th>\n",
       "      <th>Year</th>\n",
       "      <th>FemaleApplication</th>\n",
       "      <th>FemaleAcceptanceRate(%)</th>\n",
       "      <th>TotalAdmits</th>\n",
       "      <th>ApplicantNumber</th>\n",
       "      <th>AcceptanceRate(%)</th>\n",
       "    </tr>\n",
       "  </thead>\n",
       "  <tbody>\n",
       "    <tr>\n",
       "      <th>0</th>\n",
       "      <td>1974</td>\n",
       "      <td>82</td>\n",
       "      <td>12.20</td>\n",
       "      <td>58</td>\n",
       "      <td>1095</td>\n",
       "      <td>5.30</td>\n",
       "    </tr>\n",
       "    <tr>\n",
       "      <th>1</th>\n",
       "      <td>1975</td>\n",
       "      <td>91</td>\n",
       "      <td>8.79</td>\n",
       "      <td>60</td>\n",
       "      <td>1091</td>\n",
       "      <td>5.50</td>\n",
       "    </tr>\n",
       "    <tr>\n",
       "      <th>2</th>\n",
       "      <td>1976</td>\n",
       "      <td>89</td>\n",
       "      <td>7.87</td>\n",
       "      <td>66</td>\n",
       "      <td>981</td>\n",
       "      <td>6.73</td>\n",
       "    </tr>\n",
       "    <tr>\n",
       "      <th>3</th>\n",
       "      <td>1977</td>\n",
       "      <td>75</td>\n",
       "      <td>9.33</td>\n",
       "      <td>75</td>\n",
       "      <td>1062</td>\n",
       "      <td>7.06</td>\n",
       "    </tr>\n",
       "    <tr>\n",
       "      <th>4</th>\n",
       "      <td>1978</td>\n",
       "      <td>99</td>\n",
       "      <td>10.10</td>\n",
       "      <td>66</td>\n",
       "      <td>1100</td>\n",
       "      <td>6.00</td>\n",
       "    </tr>\n",
       "    <tr>\n",
       "      <th>5</th>\n",
       "      <td>1979</td>\n",
       "      <td>104</td>\n",
       "      <td>6.73</td>\n",
       "      <td>77</td>\n",
       "      <td>1079</td>\n",
       "      <td>7.14</td>\n",
       "    </tr>\n",
       "    <tr>\n",
       "      <th>6</th>\n",
       "      <td>1980</td>\n",
       "      <td>99</td>\n",
       "      <td>11.11</td>\n",
       "      <td>63</td>\n",
       "      <td>1098</td>\n",
       "      <td>5.74</td>\n",
       "    </tr>\n",
       "    <tr>\n",
       "      <th>7</th>\n",
       "      <td>1981</td>\n",
       "      <td>111</td>\n",
       "      <td>10.81</td>\n",
       "      <td>72</td>\n",
       "      <td>1065</td>\n",
       "      <td>6.76</td>\n",
       "    </tr>\n",
       "    <tr>\n",
       "      <th>8</th>\n",
       "      <td>1982</td>\n",
       "      <td>97</td>\n",
       "      <td>10.31</td>\n",
       "      <td>78</td>\n",
       "      <td>1125</td>\n",
       "      <td>6.93</td>\n",
       "    </tr>\n",
       "    <tr>\n",
       "      <th>9</th>\n",
       "      <td>1983</td>\n",
       "      <td>82</td>\n",
       "      <td>14.63</td>\n",
       "      <td>79</td>\n",
       "      <td>1007</td>\n",
       "      <td>7.85</td>\n",
       "    </tr>\n",
       "    <tr>\n",
       "      <th>10</th>\n",
       "      <td>1984</td>\n",
       "      <td>120</td>\n",
       "      <td>7.50</td>\n",
       "      <td>72</td>\n",
       "      <td>1150</td>\n",
       "      <td>6.26</td>\n",
       "    </tr>\n",
       "    <tr>\n",
       "      <th>11</th>\n",
       "      <td>1985</td>\n",
       "      <td>119</td>\n",
       "      <td>7.56</td>\n",
       "      <td>65</td>\n",
       "      <td>1074</td>\n",
       "      <td>6.05</td>\n",
       "    </tr>\n",
       "    <tr>\n",
       "      <th>12</th>\n",
       "      <td>1986</td>\n",
       "      <td>101</td>\n",
       "      <td>8.91</td>\n",
       "      <td>69</td>\n",
       "      <td>1146</td>\n",
       "      <td>6.02</td>\n",
       "    </tr>\n",
       "    <tr>\n",
       "      <th>13</th>\n",
       "      <td>1987</td>\n",
       "      <td>129</td>\n",
       "      <td>7.75</td>\n",
       "      <td>68</td>\n",
       "      <td>1055</td>\n",
       "      <td>6.45</td>\n",
       "    </tr>\n",
       "    <tr>\n",
       "      <th>14</th>\n",
       "      <td>1988</td>\n",
       "      <td>126</td>\n",
       "      <td>6.35</td>\n",
       "      <td>61</td>\n",
       "      <td>1085</td>\n",
       "      <td>5.62</td>\n",
       "    </tr>\n",
       "    <tr>\n",
       "      <th>15</th>\n",
       "      <td>1989</td>\n",
       "      <td>189</td>\n",
       "      <td>5.82</td>\n",
       "      <td>55</td>\n",
       "      <td>1135</td>\n",
       "      <td>4.85</td>\n",
       "    </tr>\n",
       "    <tr>\n",
       "      <th>16</th>\n",
       "      <td>1990</td>\n",
       "      <td>172</td>\n",
       "      <td>6.40</td>\n",
       "      <td>69</td>\n",
       "      <td>1071</td>\n",
       "      <td>6.44</td>\n",
       "    </tr>\n",
       "    <tr>\n",
       "      <th>17</th>\n",
       "      <td>1991</td>\n",
       "      <td>199</td>\n",
       "      <td>6.03</td>\n",
       "      <td>64</td>\n",
       "      <td>1165</td>\n",
       "      <td>5.49</td>\n",
       "    </tr>\n",
       "    <tr>\n",
       "      <th>18</th>\n",
       "      <td>1992</td>\n",
       "      <td>215</td>\n",
       "      <td>4.19</td>\n",
       "      <td>61</td>\n",
       "      <td>1089</td>\n",
       "      <td>5.60</td>\n",
       "    </tr>\n",
       "    <tr>\n",
       "      <th>19</th>\n",
       "      <td>1993</td>\n",
       "      <td>184</td>\n",
       "      <td>4.35</td>\n",
       "      <td>69</td>\n",
       "      <td>1156</td>\n",
       "      <td>5.97</td>\n",
       "    </tr>\n",
       "    <tr>\n",
       "      <th>20</th>\n",
       "      <td>1994</td>\n",
       "      <td>216</td>\n",
       "      <td>5.09</td>\n",
       "      <td>65</td>\n",
       "      <td>1070</td>\n",
       "      <td>6.07</td>\n",
       "    </tr>\n",
       "    <tr>\n",
       "      <th>21</th>\n",
       "      <td>1995</td>\n",
       "      <td>132</td>\n",
       "      <td>6.82</td>\n",
       "      <td>67</td>\n",
       "      <td>1090</td>\n",
       "      <td>6.15</td>\n",
       "    </tr>\n",
       "    <tr>\n",
       "      <th>22</th>\n",
       "      <td>1996</td>\n",
       "      <td>191</td>\n",
       "      <td>4.71</td>\n",
       "      <td>56</td>\n",
       "      <td>1094</td>\n",
       "      <td>5.12</td>\n",
       "    </tr>\n",
       "    <tr>\n",
       "      <th>23</th>\n",
       "      <td>1997</td>\n",
       "      <td>217</td>\n",
       "      <td>4.61</td>\n",
       "      <td>62</td>\n",
       "      <td>1102</td>\n",
       "      <td>5.63</td>\n",
       "    </tr>\n",
       "    <tr>\n",
       "      <th>24</th>\n",
       "      <td>1998</td>\n",
       "      <td>137</td>\n",
       "      <td>5.84</td>\n",
       "      <td>70</td>\n",
       "      <td>1144</td>\n",
       "      <td>6.12</td>\n",
       "    </tr>\n",
       "    <tr>\n",
       "      <th>25</th>\n",
       "      <td>1999</td>\n",
       "      <td>129</td>\n",
       "      <td>9.30</td>\n",
       "      <td>61</td>\n",
       "      <td>1141</td>\n",
       "      <td>5.35</td>\n",
       "    </tr>\n",
       "    <tr>\n",
       "      <th>26</th>\n",
       "      <td>2000</td>\n",
       "      <td>165</td>\n",
       "      <td>4.85</td>\n",
       "      <td>74</td>\n",
       "      <td>1110</td>\n",
       "      <td>6.67</td>\n",
       "    </tr>\n",
       "    <tr>\n",
       "      <th>27</th>\n",
       "      <td>2001</td>\n",
       "      <td>176</td>\n",
       "      <td>4.55</td>\n",
       "      <td>58</td>\n",
       "      <td>1152</td>\n",
       "      <td>5.03</td>\n",
       "    </tr>\n",
       "    <tr>\n",
       "      <th>28</th>\n",
       "      <td>2002</td>\n",
       "      <td>153</td>\n",
       "      <td>7.84</td>\n",
       "      <td>79</td>\n",
       "      <td>975</td>\n",
       "      <td>8.10</td>\n",
       "    </tr>\n",
       "    <tr>\n",
       "      <th>29</th>\n",
       "      <td>2003</td>\n",
       "      <td>159</td>\n",
       "      <td>5.66</td>\n",
       "      <td>58</td>\n",
       "      <td>1003</td>\n",
       "      <td>5.78</td>\n",
       "    </tr>\n",
       "    <tr>\n",
       "      <th>30</th>\n",
       "      <td>2004</td>\n",
       "      <td>134</td>\n",
       "      <td>8.21</td>\n",
       "      <td>56</td>\n",
       "      <td>1076</td>\n",
       "      <td>5.20</td>\n",
       "    </tr>\n",
       "    <tr>\n",
       "      <th>31</th>\n",
       "      <td>2005</td>\n",
       "      <td>165</td>\n",
       "      <td>6.06</td>\n",
       "      <td>67</td>\n",
       "      <td>1106</td>\n",
       "      <td>6.06</td>\n",
       "    </tr>\n",
       "    <tr>\n",
       "      <th>32</th>\n",
       "      <td>2006</td>\n",
       "      <td>203</td>\n",
       "      <td>5.42</td>\n",
       "      <td>79</td>\n",
       "      <td>978</td>\n",
       "      <td>8.08</td>\n",
       "    </tr>\n",
       "    <tr>\n",
       "      <th>33</th>\n",
       "      <td>2007</td>\n",
       "      <td>125</td>\n",
       "      <td>8.80</td>\n",
       "      <td>75</td>\n",
       "      <td>1123</td>\n",
       "      <td>6.68</td>\n",
       "    </tr>\n",
       "    <tr>\n",
       "      <th>34</th>\n",
       "      <td>2008</td>\n",
       "      <td>208</td>\n",
       "      <td>6.25</td>\n",
       "      <td>64</td>\n",
       "      <td>1045</td>\n",
       "      <td>6.12</td>\n",
       "    </tr>\n",
       "    <tr>\n",
       "      <th>35</th>\n",
       "      <td>2009</td>\n",
       "      <td>179</td>\n",
       "      <td>6.15</td>\n",
       "      <td>62</td>\n",
       "      <td>1050</td>\n",
       "      <td>5.90</td>\n",
       "    </tr>\n",
       "    <tr>\n",
       "      <th>36</th>\n",
       "      <td>2010</td>\n",
       "      <td>157</td>\n",
       "      <td>6.37</td>\n",
       "      <td>52</td>\n",
       "      <td>953</td>\n",
       "      <td>5.46</td>\n",
       "    </tr>\n",
       "    <tr>\n",
       "      <th>37</th>\n",
       "      <td>2011</td>\n",
       "      <td>215</td>\n",
       "      <td>4.19</td>\n",
       "      <td>65</td>\n",
       "      <td>1098</td>\n",
       "      <td>5.92</td>\n",
       "    </tr>\n",
       "    <tr>\n",
       "      <th>38</th>\n",
       "      <td>2012</td>\n",
       "      <td>129</td>\n",
       "      <td>6.20</td>\n",
       "      <td>79</td>\n",
       "      <td>1050</td>\n",
       "      <td>7.52</td>\n",
       "    </tr>\n",
       "    <tr>\n",
       "      <th>39</th>\n",
       "      <td>2013</td>\n",
       "      <td>137</td>\n",
       "      <td>7.30</td>\n",
       "      <td>60</td>\n",
       "      <td>999</td>\n",
       "      <td>6.01</td>\n",
       "    </tr>\n",
       "    <tr>\n",
       "      <th>40</th>\n",
       "      <td>2014</td>\n",
       "      <td>175</td>\n",
       "      <td>5.71</td>\n",
       "      <td>74</td>\n",
       "      <td>1092</td>\n",
       "      <td>6.78</td>\n",
       "    </tr>\n",
       "    <tr>\n",
       "      <th>41</th>\n",
       "      <td>2015</td>\n",
       "      <td>152</td>\n",
       "      <td>7.89</td>\n",
       "      <td>64</td>\n",
       "      <td>1020</td>\n",
       "      <td>6.27</td>\n",
       "    </tr>\n",
       "    <tr>\n",
       "      <th>42</th>\n",
       "      <td>2016</td>\n",
       "      <td>142</td>\n",
       "      <td>5.63</td>\n",
       "      <td>73</td>\n",
       "      <td>1008</td>\n",
       "      <td>7.24</td>\n",
       "    </tr>\n",
       "    <tr>\n",
       "      <th>43</th>\n",
       "      <td>2017</td>\n",
       "      <td>141</td>\n",
       "      <td>10.64</td>\n",
       "      <td>75</td>\n",
       "      <td>1167</td>\n",
       "      <td>6.43</td>\n",
       "    </tr>\n",
       "    <tr>\n",
       "      <th>44</th>\n",
       "      <td>2018</td>\n",
       "      <td>154</td>\n",
       "      <td>9.09</td>\n",
       "      <td>63</td>\n",
       "      <td>1095</td>\n",
       "      <td>5.75</td>\n",
       "    </tr>\n",
       "    <tr>\n",
       "      <th>45</th>\n",
       "      <td>2019</td>\n",
       "      <td>216</td>\n",
       "      <td>5.56</td>\n",
       "      <td>72</td>\n",
       "      <td>1071</td>\n",
       "      <td>6.72</td>\n",
       "    </tr>\n",
       "    <tr>\n",
       "      <th>46</th>\n",
       "      <td>2020</td>\n",
       "      <td>182</td>\n",
       "      <td>8.24</td>\n",
       "      <td>70</td>\n",
       "      <td>1165</td>\n",
       "      <td>6.01</td>\n",
       "    </tr>\n",
       "    <tr>\n",
       "      <th>47</th>\n",
       "      <td>2021</td>\n",
       "      <td>204</td>\n",
       "      <td>5.88</td>\n",
       "      <td>69</td>\n",
       "      <td>1089</td>\n",
       "      <td>6.34</td>\n",
       "    </tr>\n",
       "  </tbody>\n",
       "</table>\n",
       "</div>"
      ],
      "text/plain": [
       "    Year  FemaleApplication  FemaleAcceptanceRate(%)  TotalAdmits  \\\n",
       "0   1974                 82                    12.20           58   \n",
       "1   1975                 91                     8.79           60   \n",
       "2   1976                 89                     7.87           66   \n",
       "3   1977                 75                     9.33           75   \n",
       "4   1978                 99                    10.10           66   \n",
       "5   1979                104                     6.73           77   \n",
       "6   1980                 99                    11.11           63   \n",
       "7   1981                111                    10.81           72   \n",
       "8   1982                 97                    10.31           78   \n",
       "9   1983                 82                    14.63           79   \n",
       "10  1984                120                     7.50           72   \n",
       "11  1985                119                     7.56           65   \n",
       "12  1986                101                     8.91           69   \n",
       "13  1987                129                     7.75           68   \n",
       "14  1988                126                     6.35           61   \n",
       "15  1989                189                     5.82           55   \n",
       "16  1990                172                     6.40           69   \n",
       "17  1991                199                     6.03           64   \n",
       "18  1992                215                     4.19           61   \n",
       "19  1993                184                     4.35           69   \n",
       "20  1994                216                     5.09           65   \n",
       "21  1995                132                     6.82           67   \n",
       "22  1996                191                     4.71           56   \n",
       "23  1997                217                     4.61           62   \n",
       "24  1998                137                     5.84           70   \n",
       "25  1999                129                     9.30           61   \n",
       "26  2000                165                     4.85           74   \n",
       "27  2001                176                     4.55           58   \n",
       "28  2002                153                     7.84           79   \n",
       "29  2003                159                     5.66           58   \n",
       "30  2004                134                     8.21           56   \n",
       "31  2005                165                     6.06           67   \n",
       "32  2006                203                     5.42           79   \n",
       "33  2007                125                     8.80           75   \n",
       "34  2008                208                     6.25           64   \n",
       "35  2009                179                     6.15           62   \n",
       "36  2010                157                     6.37           52   \n",
       "37  2011                215                     4.19           65   \n",
       "38  2012                129                     6.20           79   \n",
       "39  2013                137                     7.30           60   \n",
       "40  2014                175                     5.71           74   \n",
       "41  2015                152                     7.89           64   \n",
       "42  2016                142                     5.63           73   \n",
       "43  2017                141                    10.64           75   \n",
       "44  2018                154                     9.09           63   \n",
       "45  2019                216                     5.56           72   \n",
       "46  2020                182                     8.24           70   \n",
       "47  2021                204                     5.88           69   \n",
       "\n",
       "    ApplicantNumber  AcceptanceRate(%)  \n",
       "0              1095               5.30  \n",
       "1              1091               5.50  \n",
       "2               981               6.73  \n",
       "3              1062               7.06  \n",
       "4              1100               6.00  \n",
       "5              1079               7.14  \n",
       "6              1098               5.74  \n",
       "7              1065               6.76  \n",
       "8              1125               6.93  \n",
       "9              1007               7.85  \n",
       "10             1150               6.26  \n",
       "11             1074               6.05  \n",
       "12             1146               6.02  \n",
       "13             1055               6.45  \n",
       "14             1085               5.62  \n",
       "15             1135               4.85  \n",
       "16             1071               6.44  \n",
       "17             1165               5.49  \n",
       "18             1089               5.60  \n",
       "19             1156               5.97  \n",
       "20             1070               6.07  \n",
       "21             1090               6.15  \n",
       "22             1094               5.12  \n",
       "23             1102               5.63  \n",
       "24             1144               6.12  \n",
       "25             1141               5.35  \n",
       "26             1110               6.67  \n",
       "27             1152               5.03  \n",
       "28              975               8.10  \n",
       "29             1003               5.78  \n",
       "30             1076               5.20  \n",
       "31             1106               6.06  \n",
       "32              978               8.08  \n",
       "33             1123               6.68  \n",
       "34             1045               6.12  \n",
       "35             1050               5.90  \n",
       "36              953               5.46  \n",
       "37             1098               5.92  \n",
       "38             1050               7.52  \n",
       "39              999               6.01  \n",
       "40             1092               6.78  \n",
       "41             1020               6.27  \n",
       "42             1008               7.24  \n",
       "43             1167               6.43  \n",
       "44             1095               5.75  \n",
       "45             1071               6.72  \n",
       "46             1165               6.01  \n",
       "47             1089               6.34  "
      ]
     },
     "execution_count": 22,
     "metadata": {},
     "output_type": "execute_result"
    }
   ],
   "source": [
    "#To get all the remaining columns which are the independent variables\n",
    "df[[\"Year\",\"FemaleApplication\",\"FemaleAcceptanceRate(%)\",\"TotalAdmits\",\"ApplicantNumber\",\"AcceptanceRate(%)\"]]"
   ]
  },
  {
   "cell_type": "code",
   "execution_count": 25,
   "id": "08a3bf3c",
   "metadata": {},
   "outputs": [
    {
     "data": {
      "image/png": "[encoded data removed]",
      "text/plain": [
       "<Figure size 432x288 with 1 Axes>"
      ]
     },
     "metadata": {
      "needs_background": "light"
     },
     "output_type": "display_data"
    }
   ],
   "source": [
    "import matplotlib.pyplot as plt\n",
    "\n",
    "# Assuming 'column1' and 'column2' are the names of the columns you want to plot\n",
    "plt.plot(data['Year'], data['FemaleAdmits'])\n",
    "\n",
    "# Add labels and title\n",
    "plt.xlabel('Year of admission')\n",
    "plt.ylabel('Count of female students Admitted')\n",
    "plt.title('Graph between Column 1 and Column 2')\n",
    "\n",
    "# Show the plot\n",
    "plt.show()\n"
   ]
  },
  {
   "cell_type": "code",
   "execution_count": null,
   "id": "1bee2399",
   "metadata": {},
   "outputs": [],
   "source": []
  },
  {
   "cell_type": "code",
   "execution_count": null,
   "id": "fb80f2cb",
   "metadata": {},
   "outputs": [],
   "source": []
  },
  {
   "cell_type": "code",
   "execution_count": 28,
   "id": "9aba870e",
   "metadata": {},
   "outputs": [
    {
     "data": {
      "text/plain": [
       "Index(['Year', 'FemaleAdmits', 'FemaleApplication', 'FemaleAcceptanceRate(%)',\n",
       "       'TotalAdmits', 'ApplicantNumber', 'AcceptanceRate(%)'],\n",
       "      dtype='object')"
      ]
     },
     "execution_count": 28,
     "metadata": {},
     "output_type": "execute_result"
    }
   ],
   "source": [
    "df.columns"
   ]
  },
  {
   "cell_type": "code",
   "execution_count": 29,
   "id": "6fa89682",
   "metadata": {},
   "outputs": [],
   "source": [
    "from sklearn.model_selection import train_test_split\n",
    "\n",
    "\n",
    "X = data[['Year', 'FemaleApplication', 'FemaleAcceptanceRate(%)','TotalAdmits','ApplicantNumber','AcceptanceRate(%)']]  # Features\n",
    "y = data['FemaleAdmits']  # Target variable\n",
    "\n",
    "# Split the data into training and test sets\n",
    "X_train, X_test, y_train, y_test = train_test_split(X, y, test_size=0.2, random_state=42)\n"
   ]
  },
  {
   "cell_type": "code",
   "execution_count": 32,
   "id": "28c4932f",
   "metadata": {},
   "outputs": [
    {
     "data": {
      "text/plain": [
       "Year                       38\n",
       "FemaleApplication          38\n",
       "FemaleAcceptanceRate(%)    38\n",
       "TotalAdmits                38\n",
       "ApplicantNumber            38\n",
       "AcceptanceRate(%)          38\n",
       "dtype: int64"
      ]
     },
     "execution_count": 32,
     "metadata": {},
     "output_type": "execute_result"
    }
   ],
   "source": [
    "X_train.count()"
   ]
  },
  {
   "cell_type": "code",
   "execution_count": 33,
   "id": "3315c640",
   "metadata": {},
   "outputs": [
    {
     "data": {
      "text/plain": [
       "Year                       10\n",
       "FemaleApplication          10\n",
       "FemaleAcceptanceRate(%)    10\n",
       "TotalAdmits                10\n",
       "ApplicantNumber            10\n",
       "AcceptanceRate(%)          10\n",
       "dtype: int64"
      ]
     },
     "execution_count": 33,
     "metadata": {},
     "output_type": "execute_result"
    }
   ],
   "source": [
    "X_test.count()"
   ]
  },
  {
   "cell_type": "code",
   "execution_count": 34,
   "id": "27749ee7",
   "metadata": {},
   "outputs": [
    {
     "data": {
      "text/plain": [
       "38"
      ]
     },
     "execution_count": 34,
     "metadata": {},
     "output_type": "execute_result"
    }
   ],
   "source": [
    "y_train.count()"
   ]
  },
  {
   "cell_type": "code",
   "execution_count": 35,
   "id": "c13d7ccf",
   "metadata": {},
   "outputs": [
    {
     "data": {
      "text/plain": [
       "10"
      ]
     },
     "execution_count": 35,
     "metadata": {},
     "output_type": "execute_result"
    }
   ],
   "source": [
    "y_test.count()"
   ]
  },
  {
   "cell_type": "code",
   "execution_count": 37,
   "id": "fb0d83ab",
   "metadata": {},
   "outputs": [],
   "source": [
    "# Initialize the linear regression model\n",
    "model = LinearRegression()\n",
    "\n",
    "# Train the model\n",
    "model.fit(X_train, y_train)\n",
    "\n",
    "# Make predictions on the test set\n",
    "predictions = model.predict(X_test)"
   ]
  },
  {
   "cell_type": "code",
   "execution_count": 39,
   "id": "4c9bbc9a",
   "metadata": {},
   "outputs": [
    {
     "name": "stdout",
     "output_type": "stream",
     "text": [
      "[ 9.47912598 10.68311013  8.77670025 14.40241848  8.55261799 11.03851844\n",
      "  9.34118337  9.12968421  9.85104448 11.75547714]\n"
     ]
    }
   ],
   "source": [
    "print(predictions)"
   ]
  },
  {
   "cell_type": "code",
   "execution_count": 40,
   "id": "d2462a19",
   "metadata": {},
   "outputs": [
    {
     "name": "stdout",
     "output_type": "stream",
     "text": [
      "Mean Squared Error: 0.95503357830653\n"
     ]
    }
   ],
   "source": [
    "# Evaluate the model\n",
    "mse = mean_squared_error(y_test, predictions)\n",
    "print(f'Mean Squared Error: {mse}')"
   ]
  },
  {
   "cell_type": "code",
   "execution_count": 42,
   "id": "98946778",
   "metadata": {},
   "outputs": [
    {
     "name": "stdout",
     "output_type": "stream",
     "text": [
      "0.7992000260462376\n"
     ]
    }
   ],
   "source": [
    "from sklearn.metrics import mean_absolute_error\n",
    "mae = mean_absolute_error(y_test, predictions)\n",
    "print(mae)"
   ]
  },
  {
   "cell_type": "code",
   "execution_count": 44,
   "id": "5e985abf",
   "metadata": {},
   "outputs": [
    {
     "name": "stdout",
     "output_type": "stream",
     "text": [
      "0.7928343647925098\n"
     ]
    }
   ],
   "source": [
    "from sklearn.metrics import r2_score\n",
    "r2 = r2_score(y_test, predictions)\n",
    "print(r2)"
   ]
  },
  {
   "cell_type": "code",
   "execution_count": null,
   "id": "4cc0123d",
   "metadata": {},
   "outputs": [],
   "source": []
  }
 ],
 "metadata": {
  "kernelspec": {
   "display_name": "Python 3",
   "language": "python",
   "name": "python3"
  },
  "language_info": {
   "codemirror_mode": {
    "name": "ipython",
    "version": 3
   },
   "file_extension": ".py",
   "mimetype": "text/x-python",
   "name": "python",
   "nbconvert_exporter": "python",
   "pygments_lexer": "ipython3",
   "version": "3.8.8"
  }
 },
 "nbformat": 4,
 "nbformat_minor": 5
}
